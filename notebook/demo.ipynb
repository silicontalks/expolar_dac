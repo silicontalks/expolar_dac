{
 "cells": [
  {
   "cell_type": "code",
   "execution_count": 1,
   "metadata": {
    "collapsed": true
   },
   "outputs": [],
   "source": [
    "from pynq import DefaultIP\n",
    "\n",
    "class tensorunit(DefaultIP):\n",
    "    def __init__(self, description):\n",
    "        super().__init__(description=description)\n",
    "        \n",
    "    bindto = ['EXPOLAR:user:tensorcore:1.0']\n",
    "    \n",
    "    def cfg_featsel(self, x, y):\n",
    "        old = self.read(0x00)\n",
    "        z1 = (((x<<28)& 0xf000_0000) + (old & 0x0fff_ffff))\n",
    "        z2 = (((y<<26)& 0x0c00_0000) + (z1 & 0xf3ff_ffff))\n",
    "        self.write(0x00, z2)\n",
    "        \n",
    "    def cfg_bias(self, bias):\n",
    "        old = self.read(0x00)\n",
    "        z1 = (((bias<<25)& 0x0200_0000) + (old & 0xfdff_ffff))\n",
    "        self.write(0x00, z1)\n",
    "        \n",
    "    def cfg_wgtsel(self, wgt):\n",
    "        old = self.read(0x00)\n",
    "        z1 = (((wgt<<1)& 0x0000_0ffe) + (old & 0xffff_f001))\n",
    "        self.write(0x00, z1)\n",
    "\n",
    "\n",
    "    def weight(self, file):\n",
    "        file_name = file\n",
    "        base_addr = 256\n",
    "        rel_addr = 32\n",
    "        width = 4\n",
    "        addr_feature_gen_bin(base_addr, rel_addr, width, file_name)\n",
    "        list_addr, list_feature = addr_feature_gen_bin(base_addr, rel_addr, width, file_name)\n",
    "        for i in range(len(list_addr)):\n",
    "            tensor_stat.write(list_addr[i], list_feature[i])\n",
    "\n",
    "    def feature(self, file):\n",
    "        file_name = file\n",
    "        base_addr = 4\n",
    "        rel_addr = 8\n",
    "        width = 4\n",
    "        addr_feature_gen_hex(base_addr, rel_addr, width, file_name)\n",
    "        list_addr, list_feature = addr_feature_gen_hex(base_addr, rel_addr, width, file_name)\n",
    "        for i in range(len(list_addr)):\n",
    "            tensor_stat.write(list_addr[i], list_feature[i])\n",
    "\n",
    "    def bias(self, file):\n",
    "        file_name = file\n",
    "        base_addr = 96\n",
    "        rel_addr = 8\n",
    "        width = 4\n",
    "        addr_feature_gen_hex(base_addr, rel_addr, width, file_name)\n",
    "        list_addr, list_feature = addr_feature_gen_hex(base_addr, rel_addr, width, file_name)\n",
    "        for i in range(len(list_addr)):\n",
    "            tensor_stat.write(list_addr[i], list_feature[i])\n",
    "            \n",
    "    def conv3x3(self, width):\n",
    "        txtName = 'output.txt'\n",
    "        f = open(txtName, 'w+')\n",
    "        for wgt in range(0,width):\n",
    "            overlay.tensorcore_0.cfg_wgtsel(wgt)\n",
    "            psum0 = tensor_stat.read(0x80)\n",
    "            psum1 = tensor_stat.read(0x84)\n",
    "            out_str = '%x'%psum0 + '%x'%psum1 + '\\r\\n'\n",
    "            f.write(out_str)\n",
    "\n",
    "\n",
    "\n",
    "def str2bin(x):\n",
    "    res = 0\n",
    "    for i in range(len(x)):\n",
    "        res = res * 2 + int(x[i])\n",
    "    return res\n",
    "\n",
    "\n",
    "def str2hex(x):\n",
    "    res = 0\n",
    "    for i in range(len(x)):\n",
    "        if x[i] >= 'a' and x[i] <= 'z':\n",
    "            res = res*16 + ord(x[i])-87\n",
    "        else:\n",
    "            res = res * 16 + int(x[i])\n",
    "    return res\n",
    "\n",
    "\n",
    "def addr_feature_gen_bin(base_addr, rel_addr, width, file_name):\n",
    "    list_addr = []\n",
    "    list_feature = []\n",
    "    fp = open(file_name, \"r\")\n",
    "    r_str = fp.readline()\n",
    "    while r_str != \"\":\n",
    "        varlist = r_str.split()\n",
    "        list_addr.append(base_addr)\n",
    "        list_addr.append(base_addr + width)\n",
    "        list_feature.append(str2bin(varlist[1]))\n",
    "        list_feature.append(str2bin(varlist[0]))\n",
    "        base_addr = base_addr + rel_addr\n",
    "        r_str = fp.readline()\n",
    "    fp.close()\n",
    "\n",
    "    return list_addr, list_feature\t\n",
    "\n",
    "def addr_feature_gen_hex(base_addr, rel_addr, width, file_name):\n",
    "    list_addr = []\n",
    "    list_feature = []\n",
    "    fp = open(file_name, \"r\")\n",
    "    r_str = fp.readline()\n",
    "    while r_str != \"\":\n",
    "        varlist = r_str.split()\n",
    "        list_addr.append(base_addr)\n",
    "        list_addr.append(base_addr + width)\n",
    "        list_feature.append(str2hex(varlist[0]))\n",
    "        list_feature.append(str2hex(varlist[1]))\n",
    "        base_addr = base_addr + rel_addr\n",
    "        r_str = fp.readline()\n",
    "    fp.close()\n",
    "\n",
    "    return list_addr, list_feature\t"
   ]
  },
  {
   "cell_type": "code",
   "execution_count": 2,
   "metadata": {
    "collapsed": true
   },
   "outputs": [],
   "source": [
    "from pynq import Overlay\n",
    "overlay = Overlay('./../bitcl/tensorcore.bit')"
   ]
  },
  {
   "cell_type": "code",
   "execution_count": 3,
   "metadata": {},
   "outputs": [
    {
     "data": {
      "text/plain": [
       "True"
      ]
     },
     "execution_count": 3,
     "metadata": {},
     "output_type": "execute_result"
    }
   ],
   "source": [
    "overlay.is_loaded()"
   ]
  },
  {
   "cell_type": "code",
   "execution_count": 4,
   "metadata": {
    "collapsed": true
   },
   "outputs": [],
   "source": [
    "tensor_stat = overlay.tensorcore_0"
   ]
  },
  {
   "cell_type": "code",
   "execution_count": 5,
   "metadata": {
    "collapsed": true
   },
   "outputs": [],
   "source": [
    "tensor_stat.write(0x00,0b0000_00_0_0001_0000_0_0001_00000000000_1)"
   ]
  },
  {
   "cell_type": "code",
   "execution_count": 6,
   "metadata": {
    "collapsed": true
   },
   "outputs": [],
   "source": [
    "overlay.tensorcore_0.weight('weight.txt')"
   ]
  },
  {
   "cell_type": "code",
   "execution_count": 7,
   "metadata": {
    "collapsed": true
   },
   "outputs": [],
   "source": [
    "overlay.tensorcore_0.feature('feature.txt')"
   ]
  },
  {
   "cell_type": "code",
   "execution_count": 8,
   "metadata": {
    "collapsed": true
   },
   "outputs": [],
   "source": [
    "overlay.tensorcore_0.bias('bias.txt')"
   ]
  },
  {
   "cell_type": "code",
   "execution_count": 9,
   "metadata": {},
   "outputs": [
    {
     "name": "stdout",
     "output_type": "stream",
     "text": [
      "The tensor results are 0x352a1c1b 0x1a0c0b1e\n"
     ]
    }
   ],
   "source": [
    "psum0 = tensor_stat.read(0x80)\n",
    "psum1 = tensor_stat.read(0x84)\n",
    "print(\"The tensor results are\",hex(psum1),hex(psum0)) "
   ]
  },
  {
   "cell_type": "code",
   "execution_count": 10,
   "metadata": {
    "collapsed": true
   },
   "outputs": [],
   "source": [
    "overlay.tensorcore_0.cfg_bias(0)"
   ]
  },
  {
   "cell_type": "code",
   "execution_count": 11,
   "metadata": {},
   "outputs": [
    {
     "name": "stdout",
     "output_type": "stream",
     "text": [
      "The confid is 0b1000000001000000000001\n"
     ]
    }
   ],
   "source": [
    "config = tensor_stat.read(0x00)\n",
    "print(\"The confid is\",bin(config)) "
   ]
  },
  {
   "cell_type": "code",
   "execution_count": 12,
   "metadata": {
    "collapsed": true
   },
   "outputs": [],
   "source": [
    "overlay.tensorcore_0.cfg_featsel(2,1)"
   ]
  },
  {
   "cell_type": "code",
   "execution_count": 13,
   "metadata": {},
   "outputs": [
    {
     "name": "stdout",
     "output_type": "stream",
     "text": [
      "The confid is 0b100100001000000001000000000001\n"
     ]
    }
   ],
   "source": [
    "config = tensor_stat.read(0x00)\n",
    "print(\"The confid is\",bin(config)) "
   ]
  },
  {
   "cell_type": "code",
   "execution_count": 14,
   "metadata": {
    "collapsed": true
   },
   "outputs": [],
   "source": [
    "overlay.tensorcore_0.cfg_wgtsel(2)"
   ]
  },
  {
   "cell_type": "code",
   "execution_count": 15,
   "metadata": {},
   "outputs": [
    {
     "name": "stdout",
     "output_type": "stream",
     "text": [
      "The confid is 0b100100001000000001000000000101\n"
     ]
    }
   ],
   "source": [
    "config = tensor_stat.read(0x00)\n",
    "print(\"The confid is\",bin(config)) "
   ]
  },
  {
   "cell_type": "code",
   "execution_count": 19,
   "metadata": {
    "collapsed": true
   },
   "outputs": [],
   "source": [
    "overlay.tensorcore_0.conv3x3(4)"
   ]
  },
  {
   "cell_type": "code",
   "execution_count": null,
   "metadata": {
    "collapsed": true
   },
   "outputs": [],
   "source": []
  },
  {
   "cell_type": "code",
   "execution_count": 9,
   "metadata": {
    "collapsed": true
   },
   "outputs": [],
   "source": [
    "tensor_stat.write(0x04,0x04030201)\n",
    "tensor_stat.write(0x08,0x08070605)\n",
    "tensor_stat.write(0x0c,0x0c0b0a09)\n",
    "tensor_stat.write(0x10,0x14131211)\n",
    "tensor_stat.write(0x14,0x18171615)\n",
    "tensor_stat.write(0x18,0x1c1b1a19)\n",
    "tensor_stat.write(0x1c,0x24232221)\n",
    "tensor_stat.write(0x20,0x28272625)\n",
    "tensor_stat.write(0x24,0x2c2b2a29)\n",
    "tensor_stat.write(0x28,0x34333231)\n",
    "tensor_stat.write(0x2c,0x38373635)\n",
    "tensor_stat.write(0x30,0x3c3b3a39)\n",
    "tensor_stat.write(0x34,0x44434241)\n",
    "tensor_stat.write(0x38,0x48474645)\n",
    "tensor_stat.write(0x3c,0x4c4b4a49)\n",
    "tensor_stat.write(0x40,0x54535251)\n",
    "tensor_stat.write(0x44,0x58575655)\n",
    "tensor_stat.write(0x48,0x5c5b5a59)"
   ]
  },
  {
   "cell_type": "code",
   "execution_count": 10,
   "metadata": {
    "collapsed": true
   },
   "outputs": [],
   "source": [
    "tensor_stat.write(0x104,0b0_0000000_0000000_0000000_0000000_000)\n",
    "tensor_stat.write(0x100,    0b0000_0000000_0000000_0000000_0000001)\n",
    "tensor_stat.write(0x124,0b0_0000000_0000000_0000000_0000000_000)\n",
    "tensor_stat.write(0x120,    0b0000_0000000_0000000_0000001_0000000)\n",
    "tensor_stat.write(0x144,0b0_0000000_0000000_0000000_0000000_000)\n",
    "tensor_stat.write(0x140,    0b0000_0000000_0000001_0000000_0000000)\n",
    "tensor_stat.write(0x164,0b0_0000000_0000000_0000000_0000000_000)\n",
    "tensor_stat.write(0x160,    0b0000_0000001_0000000_0000000_0000000)\n",
    "tensor_stat.write(0x184,0b0_0000000_0000000_0000000_0000000_000)\n",
    "tensor_stat.write(0x180,    0b0001_0000000_0000000_0000000_0000000)\n",
    "tensor_stat.write(0x1a4,0b0_0000000_0000000_0000000_0000001_000)\n",
    "tensor_stat.write(0x1a0,    0b0000_0000000_0000000_0000000_0000000)\n",
    "tensor_stat.write(0x1c4,0b0_0000000_0000000_0000001_0000000_000)\n",
    "tensor_stat.write(0x1c0,    0b0000_0000000_0000000_0000000_0000000)\n",
    "tensor_stat.write(0x1e4,0b0_0000000_0000001_0000000_0000000_000)\n",
    "tensor_stat.write(0x1e0,    0b0000_0000000_0000000_0000000_0000000)"
   ]
  },
  {
   "cell_type": "code",
   "execution_count": 16,
   "metadata": {
    "collapsed": true
   },
   "outputs": [],
   "source": [
    "tensor_stat.write(0x10c,0b0_0000000_0000000_0000000_0000000_000)\n",
    "tensor_stat.write(0x108,    0b0000_0000000_0000000_0000001_0000001)\n",
    "tensor_stat.write(0x12c,0b0_0000000_0000000_0000000_0000000_000)\n",
    "tensor_stat.write(0x128,    0b0000_0000000_0000000_0000001_0000000)\n",
    "tensor_stat.write(0x14c,0b0_0000000_0000000_0000000_0000000_000)\n",
    "tensor_stat.write(0x148,    0b0000_0000000_0000001_0000000_0000000)\n",
    "tensor_stat.write(0x16c,0b0_0000000_0000000_0000000_0000000_000)\n",
    "tensor_stat.write(0x168,    0b0000_0000001_0000000_0000000_0000000)\n",
    "tensor_stat.write(0x18c,0b0_0000000_0000000_0000000_0000000_000)\n",
    "tensor_stat.write(0x188,    0b0001_0000000_0000000_0000000_0000000)\n",
    "tensor_stat.write(0x1ac,0b0_0000000_0000000_0000000_0000001_000)\n",
    "tensor_stat.write(0x1a8,    0b0000_0000000_0000000_0000000_0000000)\n",
    "tensor_stat.write(0x1cc,0b0_0000000_0000000_0000001_0000000_000)\n",
    "tensor_stat.write(0x1c8,    0b0000_0000000_0000000_0000000_0000000)\n",
    "tensor_stat.write(0x1ec,0b0_0000000_0000001_0000000_0000000_000)\n",
    "tensor_stat.write(0x1e8,    0b0000_0000000_0000000_0000000_0000000)"
   ]
  },
  {
   "cell_type": "code",
   "execution_count": 17,
   "metadata": {
    "collapsed": true
   },
   "outputs": [],
   "source": [
    "tensor_stat.write(0x114,0b0_0000000_0000000_0000000_0000000_000)\n",
    "tensor_stat.write(0x110,    0b0000_0000000_0000000_0000000_0000001)\n",
    "tensor_stat.write(0x134,0b0_0000000_0000000_0000000_0000000_000)\n",
    "tensor_stat.write(0x130,    0b0000_0000000_0000000_0000001_0000000)\n",
    "tensor_stat.write(0x154,0b0_0000000_0000000_0000000_0000000_000)\n",
    "tensor_stat.write(0x150,    0b0000_0000000_0000001_0000000_0000000)\n",
    "tensor_stat.write(0x174,0b0_0000000_0000000_0000000_0000000_000)\n",
    "tensor_stat.write(0x170,    0b0000_0000001_0000000_0000000_0000000)\n",
    "tensor_stat.write(0x194,0b0_0000000_0000000_0000000_0000000_000)\n",
    "tensor_stat.write(0x190,    0b0001_0000000_0000000_0000000_0000000)\n",
    "tensor_stat.write(0x1b4,0b0_0000000_0000000_0000000_0000001_000)\n",
    "tensor_stat.write(0x1b0,    0b0000_0000000_0000000_0000000_0000000)\n",
    "tensor_stat.write(0x1d4,0b0_0000000_0000000_0000001_0000000_000)\n",
    "tensor_stat.write(0x1d0,    0b0000_0000000_0000000_0000000_0000000)\n",
    "tensor_stat.write(0x1f4,0b0_0000000_0000001_0000000_0000000_000)\n",
    "tensor_stat.write(0x1f0,    0b0000_0000000_0000000_0000000_0000000)"
   ]
  },
  {
   "cell_type": "code",
   "execution_count": 18,
   "metadata": {
    "collapsed": true
   },
   "outputs": [],
   "source": [
    "tensor_stat.write(0x114,0b0_0000000_0000000_0000000_0000000_000)\n",
    "tensor_stat.write(0x110,    0b0000_0000000_0000000_0000000_0000001)\n",
    "tensor_stat.write(0x134,0b0_0000000_0000000_0000000_0000000_000)\n",
    "tensor_stat.write(0x130,    0b0000_0000000_0000000_0000001_0000000)\n",
    "tensor_stat.write(0x154,0b0_0000000_0000000_0000000_0000000_000)\n",
    "tensor_stat.write(0x150,    0b0000_0000000_0000001_0000000_0000000)\n",
    "tensor_stat.write(0x174,0b0_0000000_0000000_0000000_0000000_000)\n",
    "tensor_stat.write(0x170,    0b0000_0000001_0000000_0000000_0000000)\n",
    "tensor_stat.write(0x194,0b0_0000000_0000000_0000000_0000000_000)\n",
    "tensor_stat.write(0x190,    0b0001_0000000_0000000_0000000_0000000)\n",
    "tensor_stat.write(0x1b4,0b0_0000000_0000000_0000000_0000001_000)\n",
    "tensor_stat.write(0x1b0,    0b0000_0000000_0000000_0000000_0000000)\n",
    "tensor_stat.write(0x1d4,0b0_0000000_0000000_0000001_0000000_000)\n",
    "tensor_stat.write(0x1d0,    0b0000_0000000_0000000_0000000_0000000)\n",
    "tensor_stat.write(0x1f4,0b0_0000000_0000001_0000000_0000000_000)\n",
    "tensor_stat.write(0x1f0,    0b0000_0000000_0000000_0000000_0000000)"
   ]
  },
  {
   "cell_type": "code",
   "execution_count": null,
   "metadata": {
    "collapsed": true
   },
   "outputs": [],
   "source": []
  }
 ],
 "metadata": {
  "kernelspec": {
   "display_name": "Python 3",
   "language": "python",
   "name": "python3"
  },
  "language_info": {
   "codemirror_mode": {
    "name": "ipython",
    "version": 3
   },
   "file_extension": ".py",
   "mimetype": "text/x-python",
   "name": "python",
   "nbconvert_exporter": "python",
   "pygments_lexer": "ipython3",
   "version": "3.6.0"
  }
 },
 "nbformat": 4,
 "nbformat_minor": 2
}
